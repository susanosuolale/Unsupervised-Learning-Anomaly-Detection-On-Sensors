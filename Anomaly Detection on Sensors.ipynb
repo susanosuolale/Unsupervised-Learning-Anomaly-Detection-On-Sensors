{
 "cells": [
  {
   "cell_type": "code",
   "execution_count": 101,
   "id": "91cf1d72",
   "metadata": {},
   "outputs": [
    {
     "name": "stdout",
     "output_type": "stream",
     "text": [
      "      SensorID         Timestamp   SensorType          X          Y  \\\n",
      "0            1  18/04/2024 22:41  Temperature  32.300556  21.575965   \n",
      "1            2  18/04/2024 22:41     Humidity  61.588405  96.030429   \n",
      "2            3  18/04/2024 22:41     Pressure  17.543522  75.573323   \n",
      "3            4  18/04/2024 22:41  Temperature  75.932405  92.519359   \n",
      "4            5  18/04/2024 22:41     Humidity  13.461775  14.773697   \n",
      "...        ...               ...          ...        ...        ...   \n",
      "9995        96  18/04/2024 22:43     Pressure  34.745910  39.720684   \n",
      "9996        97  18/04/2024 22:43  Temperature  90.937513  15.553641   \n",
      "9997        98  18/04/2024 22:43     Humidity  18.121821  18.919793   \n",
      "9998        99  18/04/2024 22:43     Pressure  32.229611  31.770562   \n",
      "9999       100  18/04/2024 22:43  Temperature  73.680801   1.365563   \n",
      "\n",
      "      SensorData  BatteryLife  Temperature  IsFaulty  \n",
      "0      51.396271    73.533551    53.793287         0  \n",
      "1      15.024628    73.435270    50.867584         0  \n",
      "2      62.117308    73.372619    49.905307         0  \n",
      "3      75.547331    73.281948    49.990236         0  \n",
      "4      20.536293    73.227014    48.288018         0  \n",
      "...          ...          ...          ...       ...  \n",
      "9995   66.516169    23.693244    46.173555         1  \n",
      "9996   73.621546    23.650062    43.276065         1  \n",
      "9997   64.572214    23.605717    42.706536         1  \n",
      "9998   96.115458    23.587572    42.739565         1  \n",
      "9999   48.738960    23.546216    43.778302         1  \n",
      "\n",
      "[10000 rows x 9 columns]\n"
     ]
    }
   ],
   "source": [
    "import numpy as np\n",
    "import pandas as pd\n",
    "\n",
    "df = pd.read_csv('WsnData.csv')\n",
    "print(df)"
   ]
  },
  {
   "cell_type": "code",
   "execution_count": 102,
   "id": "62f180f3",
   "metadata": {},
   "outputs": [
    {
     "name": "stdout",
     "output_type": "stream",
     "text": [
      "SensorID       0\n",
      "Timestamp      0\n",
      "SensorType     0\n",
      "X              0\n",
      "Y              0\n",
      "SensorData     0\n",
      "BatteryLife    0\n",
      "Temperature    0\n",
      "IsFaulty       0\n",
      "dtype: int64\n"
     ]
    }
   ],
   "source": [
    "#checking for null_values\n",
    "null_values = df.isnull().sum()\n",
    "#count null values for eachn column\n",
    "print(null_values)"
   ]
  },
  {
   "cell_type": "code",
   "execution_count": 243,
   "id": "624349c8",
   "metadata": {},
   "outputs": [
    {
     "name": "stdout",
     "output_type": "stream",
     "text": [
      "Shape of X: (10000, 5)\n",
      "Shape of y: (10000,)\n"
     ]
    }
   ],
   "source": [
    "#Define training Set\n",
    "X = df.iloc[:, 3:8].values  # All columns except the last one\n",
    "y = df.iloc[:, -1].values   # Only the last column\n",
    "\n",
    "\n",
    "# Displaying the shapes of X and y to verify\n",
    "print(\"Shape of X:\", X.shape)\n",
    "print(\"Shape of y:\", y.shape)\n"
   ]
  },
  {
   "cell_type": "code",
   "execution_count": 274,
   "id": "c87d4229",
   "metadata": {},
   "outputs": [
    {
     "name": "stdout",
     "output_type": "stream",
     "text": [
      "the shape of the training set (input) is: (7500, 5)\n",
      "the shape of the training set (target) is: (7500,)\n",
      "\n",
      "the shape of the cross validation set (input) is: (2500, 5)\n",
      "the shape of the cross validation set (target) is: (2500,)\n",
      "\n"
     ]
    }
   ],
   "source": [
    "x_train = X[:7500]\n",
    "y_train = y[:7500]\n",
    "\n",
    "x_cv = X[7500:10000]\n",
    "y_cv = y[7500:10000]\n",
    "\n",
    "\n",
    "print(f\"the shape of the training set (input) is: {x_train.shape}\")\n",
    "print(f\"the shape of the training set (target) is: {y_train.shape}\\n\")\n",
    "print(f\"the shape of the cross validation set (input) is: {x_cv.shape}\")\n",
    "print(f\"the shape of the cross validation set (target) is: {y_cv.shape}\\n\")"
   ]
  },
  {
   "cell_type": "code",
   "execution_count": 275,
   "id": "994486f9",
   "metadata": {},
   "outputs": [],
   "source": [
    "def estimate_gaussian(X): \n",
    "    \"\"\"\n",
    "    Calculates mean and variance of all features \n",
    "    in the dataset\n",
    "    \n",
    "    Args:\n",
    "        X (ndarray): (m, n) Data matrix\n",
    "    \n",
    "    Returns:\n",
    "        mu (ndarray): (n,) Mean of all features\n",
    "        var (ndarray): (n,) Variance of all features\n",
    "    \"\"\"\n",
    "\n",
    "    m, n = X.shape\n",
    "    mu = np.zeros(n)\n",
    "    var = np.zeros(n)\n",
    "    ### START CODE HERE ### \n",
    "    for j in range(n):\n",
    "        #for each feature in all the training examples\n",
    "        x_feat = X[:,j]\n",
    "        mu[j] = np.mean(x_feat)\n",
    "        var[j] =  np.var(x_feat)\n",
    "    \n",
    "    \n",
    "    ### END CODE HERE ### \n",
    "        \n",
    "    return mu, var"
   ]
  },
  {
   "cell_type": "code",
   "execution_count": 276,
   "id": "98696f7d",
   "metadata": {},
   "outputs": [
    {
     "name": "stdout",
     "output_type": "stream",
     "text": [
      "Mean of each feature: [50.30887561 47.10071416 50.4059588  49.26649485 43.25606869]\n",
      "Variance of each feature: [ 722.64664894 1015.40556094  886.04822104  806.84730427  278.41424682]\n"
     ]
    }
   ],
   "source": [
    "# Estimate mean and variance of each feature\n",
    "mu, var = estimate_gaussian(x_train)              \n",
    "\n",
    "print(\"Mean of each feature:\", mu)\n",
    "print(\"Variance of each feature:\", var)"
   ]
  },
  {
   "cell_type": "code",
   "execution_count": 277,
   "id": "f8080e8a",
   "metadata": {},
   "outputs": [
    {
     "name": "stdout",
     "output_type": "stream",
     "text": [
      "[1.50500544e-10 4.04824845e-11 4.81921481e-11 ... 1.63878288e-10\n",
      " 1.21366760e-10 1.35490051e-10]\n"
     ]
    }
   ],
   "source": [
    "from scipy.stats import multivariate_normal\n",
    "def multivariate_gaussian(X, mu, var):\n",
    "    pdf_values = multivariate_normal.pdf(X, mean=mu, cov=var)\n",
    "    return pdf_values\n",
    " \n",
    "\n",
    "p = multivariate_gaussian(x_cv, mu, var)\n",
    "print(p)"
   ]
  },
  {
   "cell_type": "code",
   "execution_count": 278,
   "id": "9600832c",
   "metadata": {},
   "outputs": [],
   "source": [
    "#select_threshold\n",
    "\n",
    "def select_threshold(y_val, p_val): \n",
    "    \"\"\"\n",
    "    Finds the best threshold to use for selecting outliers \n",
    "    based on the results from a validation set (p_val) \n",
    "    and the ground truth (y_val)\n",
    "    \n",
    "    Args:\n",
    "        y_val (ndarray): Ground truth on validation set\n",
    "        p_val (ndarray): Results on validation set\n",
    "        \n",
    "    Returns:\n",
    "        epsilon (float): Threshold chosen \n",
    "        F1 (float):      F1 score by choosing epsilon as threshold\n",
    "    \"\"\" \n",
    "\n",
    "    best_epsilon = 0\n",
    "    best_F1 = 0\n",
    "    F1 = 0\n",
    "    \n",
    "    step_size = (max(p_val) - min(p_val)) / 1000\n",
    "    \n",
    "    for epsilon in np.arange(min(p_val), max(p_val), step_size):\n",
    "        #iterating through different values of epsilon that range from the minimum y_pred to the\n",
    "        #maximum y_pred\n",
    "    \n",
    "        ### START CODE HERE ### \n",
    "        #comparing this particular value of epsilon to the list of our predicted values returning 1 if less than\n",
    "        #epsilon and 0 if greater than epsilon\n",
    "        predictions = (p_val < epsilon)\n",
    "        \n",
    "        \n",
    "        tp = np.sum((predictions == 1) & (y_val == 1))\n",
    "        fp = np.sum((predictions == 1) & (y_val == 0))\n",
    "      \n",
    "        fn = np.sum((predictions == 0) & (y_val == 1))\n",
    "\n",
    "    \n",
    "        if tp != 0 and (tp + fp) != 0 and  (tp + fn) != 0:\n",
    "            precision = tp/(tp + fp)\n",
    "            recall = tp/(tp + fn)\n",
    "            F1 = (2*precision*recall)/(precision + recall)\n",
    "            if F1 > best_F1:\n",
    "                best_F1 = F1\n",
    "                best_epsilon = epsilon\n",
    "      \n",
    "        \n",
    "        \n",
    "        ### END CODE HERE ### \n",
    "#       \n",
    "        \n",
    "    return best_epsilon, best_F1"
   ]
  },
  {
   "cell_type": "code",
   "execution_count": 279,
   "id": "fed565d3",
   "metadata": {},
   "outputs": [
    {
     "name": "stdout",
     "output_type": "stream",
     "text": [
      "6.419287204360805e-10\n",
      "0.9137144099108889\n"
     ]
    }
   ],
   "source": [
    "epsilon,F1 = select_threshold(y_cv, p)\n",
    "print(epsilon)\n",
    "print(F1)"
   ]
  },
  {
   "cell_type": "code",
   "execution_count": 281,
   "id": "478efb08",
   "metadata": {},
   "outputs": [
    {
     "name": "stdout",
     "output_type": "stream",
     "text": [
      "# Anomalies found: 2499\n",
      "# Actual Anomalies: 2102\n"
     ]
    }
   ],
   "source": [
    "print('# Anomalies found: %d'% sum(p < epsilon))\n",
    "print('# Actual Anomalies: %d'%sum(y_cv))"
   ]
  },
  {
   "cell_type": "code",
   "execution_count": null,
   "id": "5c521578",
   "metadata": {},
   "outputs": [],
   "source": [
    "#NOTE: training the data on way too littles datasets i.e getting the parameters of a relatively small amount of data makes the\n",
    "#data poor in identifying normalcy thus causing to flag more normals as anomalies causing extremely low precision"
   ]
  },
  {
   "cell_type": "code",
   "execution_count": null,
   "id": "3379941c",
   "metadata": {},
   "outputs": [],
   "source": []
  },
  {
   "cell_type": "code",
   "execution_count": null,
   "id": "dff9a7ea",
   "metadata": {},
   "outputs": [],
   "source": []
  }
 ],
 "metadata": {
  "kernelspec": {
   "display_name": "Python 3 (ipykernel)",
   "language": "python",
   "name": "python3"
  },
  "language_info": {
   "codemirror_mode": {
    "name": "ipython",
    "version": 3
   },
   "file_extension": ".py",
   "mimetype": "text/x-python",
   "name": "python",
   "nbconvert_exporter": "python",
   "pygments_lexer": "ipython3",
   "version": "3.11.5"
  }
 },
 "nbformat": 4,
 "nbformat_minor": 5
}
